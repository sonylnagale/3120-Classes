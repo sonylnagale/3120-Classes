{
 "cells": [
  {
   "cell_type": "code",
   "execution_count": 1,
   "id": "6b88b4bc-a5c4-436d-9eed-8e95600f6d53",
   "metadata": {
    "editable": true,
    "slideshow": {
     "slide_type": ""
    },
    "tags": []
   },
   "outputs": [],
   "source": [
    "from Animal import Animal\n",
    "\n",
    "x = Animal(\"Daisy\", \"Dog\", 3, \"Woof\")\n",
    "\n",
    "x.talk()  \n",
    "\n",
    "x.set_sound(\"Bark\")\n",
    "x.talk()  \n",
    "\n",
    "print(\"Age:\", x.get_age())\n",
    "\n",
    "print(\"Species:\", x.get_species())\n",
    "\n",
    "x.set_species(\"Axolotl\")\n",
    "print(\"New Species:\", x.get_species())\n",
    "\n",
    "x.set_age(2)\n",
    "print(\"New Age:\", x.get_age()) \n",
    "\n",
    "x.describe()  \n"
   ]
  },
  {
   "cell_type": "code",
   "execution_count": null,
   "id": "738a52e3-faf1-4f92-8835-fed5b5e36dfe",
   "metadata": {
    "editable": true,
    "slideshow": {
     "slide_type": ""
    },
    "tags": []
   },
   "outputs": [],
   "source": []
  },
  {
   "cell_type": "code",
   "execution_count": null,
   "id": "e584e15d-80e8-4e39-ae7b-9268e7cd62ed",
   "metadata": {},
   "outputs": [],
   "source": []
  }
 ],
 "metadata": {
  "kernelspec": {
   "display_name": "Python 3 (ipykernel)",
   "language": "python",
   "name": "python3"
  },
  "language_info": {
   "codemirror_mode": {
    "name": "ipython",
    "version": 3
   },
   "file_extension": ".py",
   "mimetype": "text/x-python",
   "name": "python",
   "nbconvert_exporter": "python",
   "pygments_lexer": "ipython3",
   "version": "3.12.4"
  }
 },
 "nbformat": 4,
 "nbformat_minor": 5
}
